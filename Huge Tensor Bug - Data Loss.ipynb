{
 "cells": [
  {
   "cell_type": "markdown",
   "metadata": {},
   "source": [
    "# Huge Tensor Bug - Data loss"
   ]
  },
  {
   "cell_type": "markdown",
   "metadata": {},
   "source": [
    "## Requirements\n",
    "I'm running this on the standard 0.7\n",
    "[RAPIDS docker containers](https://hub.docker.com/r/rapidsai/rapidsai) and also\n",
    "need the following `pip` dependencies installed:"
   ]
  },
  {
   "cell_type": "code",
   "execution_count": 26,
   "metadata": {},
   "outputs": [
    {
     "name": "stdout",
     "output_type": "stream",
     "text": [
      "Requirement already satisfied: torch==1.0.1 in /conda/envs/rapids/lib/python3.6/site-packages (1.0.1)\n",
      "Requirement already satisfied: pytorch-ignite==0.1.2 in /conda/envs/rapids/lib/python3.6/site-packages (0.1.2)\n",
      "Requirement already satisfied: pyarrow in /conda/envs/rapids/lib/python3.6/site-packages (0.12.1)\n",
      "Requirement already satisfied: numpy>=1.14 in /conda/envs/rapids/lib/python3.6/site-packages (from pyarrow) (1.16.2)\n",
      "Requirement already satisfied: six>=1.0.0 in /conda/envs/rapids/lib/python3.6/site-packages (from pyarrow) (1.12.0)\n"
     ]
    }
   ],
   "source": [
    "!pip install torch==1.0.1"
   ]
  },
  {
   "cell_type": "markdown",
   "metadata": {},
   "source": [
    "If you're running this on your local machine you should have most things installed"
   ]
  },
  {
   "cell_type": "markdown",
   "metadata": {},
   "source": [
    "## CODE"
   ]
  },
  {
   "cell_type": "markdown",
   "metadata": {},
   "source": [
    "### Imports"
   ]
  },
  {
   "cell_type": "code",
   "execution_count": 1,
   "metadata": {},
   "outputs": [],
   "source": [
    "import torch"
   ]
  },
  {
   "cell_type": "code",
   "execution_count": 2,
   "metadata": {},
   "outputs": [],
   "source": [
    "%load_ext autoreload"
   ]
  },
  {
   "cell_type": "code",
   "execution_count": 3,
   "metadata": {},
   "outputs": [],
   "source": [
    "%autoreload 2"
   ]
  },
  {
   "cell_type": "markdown",
   "metadata": {},
   "source": [
    "#### In order to demonstrate this bug we need a large tensor"
   ]
  },
  {
   "cell_type": "code",
   "execution_count": 4,
   "metadata": {},
   "outputs": [],
   "source": [
    "features = torch.LongTensor(15000000, 45).random_(0, 2**22)\n",
    "#features = torch.FloatTensor(15000000, 90).random_(-1, 1)"
   ]
  },
  {
   "cell_type": "code",
   "execution_count": 5,
   "metadata": {},
   "outputs": [
    {
     "data": {
      "text/plain": [
       "tensor([2874842, 1426886, 2900003, 1340271, 1255904,   53916,  150306, 3135209,\n",
       "        1566565, 3700984,  199050, 2326381,  436634,    1117, 1546400, 4001063,\n",
       "        1472543, 1806464,  201497,  716067,   94419,  212859,  543911,  908213,\n",
       "        4174394, 3005976, 2171144, 2967139,  813713, 1516383,  686261, 3008736,\n",
       "        1182924, 3776220, 3716994, 3882399, 4064310, 2592183, 3436898, 1882412,\n",
       "         546035, 3549929, 4055420, 1432250, 1471965])"
      ]
     },
     "execution_count": 5,
     "metadata": {},
     "output_type": "execute_result"
    }
   ],
   "source": [
    "features[0]"
   ]
  },
  {
   "cell_type": "code",
   "execution_count": 6,
   "metadata": {},
   "outputs": [
    {
     "data": {
      "text/plain": [
       "tensor([2167864, 3165248, 1245852, 2146404, 3948645,  265299,  844671, 3354802,\n",
       "         590113, 2841125,  958101, 1508428, 3405411, 1697418,  301883, 3097217,\n",
       "         620701,  818595, 3024319, 3623090, 1033113,  289799,  200632, 3951973,\n",
       "        2293208, 1706245, 1716449, 3183350, 2641135, 1216988, 1998064, 2379344,\n",
       "        4049610, 3027779, 1925729, 3419792, 2398803, 3161385, 2171724, 2212434,\n",
       "        2186084, 3258908, 1923136, 3271952, 3799253])"
      ]
     },
     "execution_count": 6,
     "metadata": {},
     "output_type": "execute_result"
    }
   ],
   "source": [
    "features[14999999]"
   ]
  },
  {
   "cell_type": "markdown",
   "metadata": {},
   "source": [
    "Validate that the last element in the dataframe has data"
   ]
  },
  {
   "cell_type": "code",
   "execution_count": null,
   "metadata": {},
   "outputs": [],
   "source": [
    "features2 = features.cuda()"
   ]
  },
  {
   "cell_type": "code",
   "execution_count": null,
   "metadata": {},
   "outputs": [],
   "source": [
    "features2[0]"
   ]
  },
  {
   "cell_type": "code",
   "execution_count": null,
   "metadata": {},
   "outputs": [],
   "source": [
    "features2[14999999]"
   ]
  },
  {
   "cell_type": "code",
   "execution_count": null,
   "metadata": {},
   "outputs": [],
   "source": [
    "features3 = features2[torch.randperm(len(features2))]"
   ]
  },
  {
   "cell_type": "code",
   "execution_count": null,
   "metadata": {},
   "outputs": [],
   "source": [
    "features3[0]"
   ]
  },
  {
   "cell_type": "code",
   "execution_count": null,
   "metadata": {},
   "outputs": [],
   "source": [
    "features3[14999999]"
   ]
  },
  {
   "cell_type": "markdown",
   "metadata": {},
   "source": [
    "Here's the boundary where this issue comes into play for this tensor.  All data after this point is 0."
   ]
  },
  {
   "cell_type": "code",
   "execution_count": null,
   "metadata": {},
   "outputs": [],
   "source": [
    "features3[11930460:11930470]"
   ]
  },
  {
   "cell_type": "code",
   "execution_count": null,
   "metadata": {},
   "outputs": [],
   "source": []
  },
  {
   "cell_type": "code",
   "execution_count": null,
   "metadata": {},
   "outputs": [],
   "source": []
  }
 ],
 "metadata": {
  "kernelspec": {
   "display_name": "Python 3",
   "language": "python",
   "name": "python3"
  },
  "language_info": {
   "codemirror_mode": {
    "name": "ipython",
    "version": 3
   },
   "file_extension": ".py",
   "mimetype": "text/x-python",
   "name": "python",
   "nbconvert_exporter": "python",
   "pygments_lexer": "ipython3",
   "version": "3.6.8"
  }
 },
 "nbformat": 4,
 "nbformat_minor": 2
}
