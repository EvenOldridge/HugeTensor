{
 "cells": [
  {
   "cell_type": "markdown",
   "metadata": {},
   "source": [
    "# Huge Tensor Bug - Data loss"
   ]
  },
  {
   "cell_type": "markdown",
   "metadata": {},
   "source": [
    "## Requirements\n",
    "I'm running this on the standard 0.7\n",
    "[RAPIDS docker containers](https://hub.docker.com/r/rapidsai/rapidsai) and also\n",
    "need the following `pip` dependencies installed:"
   ]
  },
  {
   "cell_type": "code",
   "execution_count": 26,
   "metadata": {},
   "outputs": [
    {
     "name": "stdout",
     "output_type": "stream",
     "text": [
      "Requirement already satisfied: torch==1.0.1 in /conda/envs/rapids/lib/python3.6/site-packages (1.0.1)\n",
      "Requirement already satisfied: pytorch-ignite==0.1.2 in /conda/envs/rapids/lib/python3.6/site-packages (0.1.2)\n",
      "Requirement already satisfied: pyarrow in /conda/envs/rapids/lib/python3.6/site-packages (0.12.1)\n",
      "Requirement already satisfied: numpy>=1.14 in /conda/envs/rapids/lib/python3.6/site-packages (from pyarrow) (1.16.2)\n",
      "Requirement already satisfied: six>=1.0.0 in /conda/envs/rapids/lib/python3.6/site-packages (from pyarrow) (1.12.0)\n"
     ]
    }
   ],
   "source": [
    "!pip install torch==1.0.1"
   ]
  },
  {
   "cell_type": "markdown",
   "metadata": {},
   "source": [
    "If you're running this on your local machine you should have most things installed"
   ]
  },
  {
   "cell_type": "markdown",
   "metadata": {},
   "source": [
    "## CODE"
   ]
  },
  {
   "cell_type": "markdown",
   "metadata": {},
   "source": [
    "### Imports"
   ]
  },
  {
   "cell_type": "code",
   "execution_count": 1,
   "metadata": {},
   "outputs": [],
   "source": [
    "import torch\n",
    "import cudf"
   ]
  },
  {
   "cell_type": "code",
   "execution_count": 2,
   "metadata": {},
   "outputs": [],
   "source": [
    "%load_ext autoreload"
   ]
  },
  {
   "cell_type": "code",
   "execution_count": 3,
   "metadata": {},
   "outputs": [],
   "source": [
    "%autoreload 2"
   ]
  },
  {
   "cell_type": "markdown",
   "metadata": {},
   "source": [
    "#### In order to demonstrate this bug we need a large tensor"
   ]
  },
  {
   "cell_type": "code",
   "execution_count": 4,
   "metadata": {},
   "outputs": [],
   "source": [
    "#features = torch.LongTensor(15000000, 45).random_(0, 2**22)\n",
    "features = torch.FloatTensor(15000000, 45).random_(-1, 1)"
   ]
  },
  {
   "cell_type": "code",
   "execution_count": 5,
   "metadata": {},
   "outputs": [
    {
     "data": {
      "text/plain": [
       "tensor([-1.,  0.,  0., -1., -1., -1.,  0., -1., -1.,  0.,  0.,  0., -1.,  0.,\n",
       "         0., -1.,  0.,  0.,  0., -1., -1., -1., -1., -1.,  0., -1., -1.,  0.,\n",
       "        -1., -1., -1.,  0., -1., -1., -1.,  0.,  0., -1.,  0., -1., -1.,  0.,\n",
       "         0.,  0.,  0.])"
      ]
     },
     "execution_count": 5,
     "metadata": {},
     "output_type": "execute_result"
    }
   ],
   "source": [
    "features[0]"
   ]
  },
  {
   "cell_type": "code",
   "execution_count": 6,
   "metadata": {},
   "outputs": [
    {
     "data": {
      "text/plain": [
       "tensor([-1.,  0.,  0., -1.,  0., -1., -1.,  0.,  0.,  0.,  0.,  0., -1.,  0.,\n",
       "         0.,  0.,  0., -1.,  0., -1., -1., -1.,  0.,  0.,  0.,  0., -1., -1.,\n",
       "         0.,  0., -1.,  0., -1., -1.,  0.,  0., -1.,  0., -1.,  0., -1., -1.,\n",
       "         0.,  0.,  0.])"
      ]
     },
     "execution_count": 6,
     "metadata": {},
     "output_type": "execute_result"
    }
   ],
   "source": [
    "features[14999999]"
   ]
  },
  {
   "cell_type": "markdown",
   "metadata": {},
   "source": [
    "Validate that the last element in the dataframe has data"
   ]
  },
  {
   "cell_type": "code",
   "execution_count": 7,
   "metadata": {},
   "outputs": [],
   "source": [
    "features2 = features.cuda()"
   ]
  },
  {
   "cell_type": "code",
   "execution_count": 8,
   "metadata": {},
   "outputs": [
    {
     "data": {
      "text/plain": [
       "tensor([-1.,  0.,  0., -1., -1., -1.,  0., -1., -1.,  0.,  0.,  0., -1.,  0.,\n",
       "         0., -1.,  0.,  0.,  0., -1., -1., -1., -1., -1.,  0., -1., -1.,  0.,\n",
       "        -1., -1., -1.,  0., -1., -1., -1.,  0.,  0., -1.,  0., -1., -1.,  0.,\n",
       "         0.,  0.,  0.], device='cuda:0')"
      ]
     },
     "execution_count": 8,
     "metadata": {},
     "output_type": "execute_result"
    }
   ],
   "source": [
    "features2[0]"
   ]
  },
  {
   "cell_type": "code",
   "execution_count": 9,
   "metadata": {},
   "outputs": [
    {
     "data": {
      "text/plain": [
       "tensor([-1.,  0.,  0., -1.,  0., -1., -1.,  0.,  0.,  0.,  0.,  0., -1.,  0.,\n",
       "         0.,  0.,  0., -1.,  0., -1., -1., -1.,  0.,  0.,  0.,  0., -1., -1.,\n",
       "         0.,  0., -1.,  0., -1., -1.,  0.,  0., -1.,  0., -1.,  0., -1., -1.,\n",
       "         0.,  0.,  0.], device='cuda:0')"
      ]
     },
     "execution_count": 9,
     "metadata": {},
     "output_type": "execute_result"
    }
   ],
   "source": [
    "features2[14999999]"
   ]
  },
  {
   "cell_type": "code",
   "execution_count": 10,
   "metadata": {},
   "outputs": [],
   "source": [
    "features3 = features2[torch.randperm(len(features2))]"
   ]
  },
  {
   "cell_type": "code",
   "execution_count": 11,
   "metadata": {},
   "outputs": [
    {
     "data": {
      "text/plain": [
       "tensor([ 0.,  0., -1., -1., -1., -1.,  0.,  0.,  0., -1., -1., -1.,  0., -1.,\n",
       "         0.,  0., -1., -1., -1.,  0., -1.,  0.,  0., -1.,  0., -1., -1., -1.,\n",
       "        -1., -1.,  0., -1., -1.,  0., -1.,  0.,  0., -1.,  0.,  0., -1., -1.,\n",
       "        -1.,  0., -1.], device='cuda:0')"
      ]
     },
     "execution_count": 11,
     "metadata": {},
     "output_type": "execute_result"
    }
   ],
   "source": [
    "features3[0]"
   ]
  },
  {
   "cell_type": "code",
   "execution_count": 12,
   "metadata": {},
   "outputs": [
    {
     "data": {
      "text/plain": [
       "tensor([ 0.,  0., -1.,  0., -1.,  0., -1., -1.,  0.,  0., -1.,  0., -1.,  0.,\n",
       "        -1., -1.,  0.,  0., -1.,  0., -1., -1., -1.,  0.,  0.,  0.,  0.,  0.,\n",
       "        -1.,  0., -1.,  0.,  0.,  0.,  0.,  0.,  0., -1.,  0., -1.,  0., -1.,\n",
       "         0., -1., -1.], device='cuda:0')"
      ]
     },
     "execution_count": 12,
     "metadata": {},
     "output_type": "execute_result"
    }
   ],
   "source": [
    "features3[14999999]"
   ]
  },
  {
   "cell_type": "markdown",
   "metadata": {},
   "source": [
    "Here's the boundary where this issue comes into play for this tensor.  All data after this point is 0."
   ]
  },
  {
   "cell_type": "code",
   "execution_count": 13,
   "metadata": {},
   "outputs": [
    {
     "data": {
      "text/plain": [
       "tensor([[ 0., -1.,  0.,  0., -1.,  0.,  0., -1.,  0.,  0., -1., -1.,  0., -1.,\n",
       "         -1.,  0.,  0., -1., -1., -1.,  0.,  0., -1.,  0., -1.,  0., -1.,  0.,\n",
       "         -1., -1.,  0., -1.,  0.,  0.,  0., -1., -1.,  0.,  0., -1.,  0.,  0.,\n",
       "         -1.,  0., -1.],\n",
       "        [ 0., -1., -1., -1., -1.,  0., -1., -1.,  0.,  0.,  0.,  0.,  0.,  0.,\n",
       "          0.,  0., -1.,  0.,  0.,  0., -1.,  0.,  0.,  0., -1., -1.,  0., -1.,\n",
       "          0.,  0., -1., -1., -1., -1.,  0.,  0., -1., -1., -1., -1., -1.,  0.,\n",
       "         -1.,  0.,  0.],\n",
       "        [ 0.,  0., -1., -1.,  0., -1.,  0., -1., -1., -1., -1.,  0.,  0., -1.,\n",
       "         -1.,  0.,  0.,  0., -1.,  0., -1.,  0., -1., -1.,  0.,  0.,  0., -1.,\n",
       "         -1., -1., -1., -1.,  0., -1.,  0.,  0., -1.,  0., -1.,  0.,  0., -1.,\n",
       "          0., -1., -1.],\n",
       "        [-1., -1.,  0.,  0.,  0.,  0., -1., -1.,  0.,  0., -1., -1., -1., -1.,\n",
       "          0., -1., -1., -1., -1., -1., -1.,  0.,  0., -1.,  0., -1.,  0.,  0.,\n",
       "          0., -1.,  0.,  0.,  0.,  0.,  0., -1.,  0.,  0., -1., -1., -1.,  0.,\n",
       "          0., -1., -1.],\n",
       "        [ 0., -1.,  0.,  0., -1., -1., -1.,  0., -1., -1., -1., -1.,  0., -1.,\n",
       "          0., -1., -1.,  0.,  0., -1.,  0.,  0., -1., -1.,  0.,  0., -1.,  0.,\n",
       "          0.,  0., -1.,  0.,  0., -1.,  0.,  0., -1.,  0.,  0., -1., -1.,  0.,\n",
       "         -1.,  0.,  0.],\n",
       "        [ 0., -1.,  0.,  0.,  0., -1., -1.,  0., -1., -1., -1.,  0.,  0., -1.,\n",
       "          0., -1.,  0.,  0.,  0., -1.,  0., -1.,  0.,  0.,  0.,  0., -1., -1.,\n",
       "          0., -1.,  0.,  0., -1., -1., -1., -1., -1., -1.,  0.,  0.,  0., -1.,\n",
       "          0., -1.,  0.],\n",
       "        [-1.,  0.,  0.,  0., -1., -1.,  0.,  0., -1.,  0.,  0., -1., -1., -1.,\n",
       "         -1., -1.,  0.,  0., -1., -1., -1.,  0.,  0., -1.,  0.,  0., -1., -1.,\n",
       "         -1., -1., -1.,  0.,  0., -1., -1.,  0.,  0., -1., -1.,  0., -1.,  0.,\n",
       "         -1., -1., -1.],\n",
       "        [-1., -1.,  0., -1., -1., -1., -1.,  0., -1., -1., -1.,  0.,  0., -1.,\n",
       "         -1.,  0.,  0.,  0.,  0.,  0.,  0., -1.,  0., -1.,  0.,  0., -1., -1.,\n",
       "          0.,  0.,  0.,  0.,  0.,  0.,  0., -1.,  0.,  0., -1., -1., -1.,  0.,\n",
       "          0., -1.,  0.],\n",
       "        [ 0.,  0., -1., -1., -1.,  0., -1.,  0., -1.,  0., -1., -1., -1.,  0.,\n",
       "         -1., -1.,  0., -1.,  0., -1., -1.,  0., -1., -1., -1.,  0., -1.,  0.,\n",
       "         -1.,  0., -1.,  0.,  0.,  0., -1., -1., -1., -1., -1., -1., -1., -1.,\n",
       "         -1., -1., -1.],\n",
       "        [-1.,  0., -1.,  0.,  0.,  0.,  0., -1.,  0.,  0.,  0., -1.,  0.,  0.,\n",
       "          0., -1.,  0.,  0., -1., -1., -1.,  0., -1.,  0.,  0., -1., -1., -1.,\n",
       "         -1., -1., -1., -1., -1.,  0., -1., -1., -1.,  0., -1., -1.,  0., -1.,\n",
       "         -1., -1., -1.]], device='cuda:0')"
      ]
     },
     "execution_count": 13,
     "metadata": {},
     "output_type": "execute_result"
    }
   ],
   "source": [
    "features3[11930460:11930470]"
   ]
  },
  {
   "cell_type": "code",
   "execution_count": null,
   "metadata": {},
   "outputs": [],
   "source": []
  }
 ],
 "metadata": {
  "kernelspec": {
   "display_name": "Python 3",
   "language": "python",
   "name": "python3"
  },
  "language_info": {
   "codemirror_mode": {
    "name": "ipython",
    "version": 3
   },
   "file_extension": ".py",
   "mimetype": "text/x-python",
   "name": "python",
   "nbconvert_exporter": "python",
   "pygments_lexer": "ipython3",
   "version": "3.6.8"
  }
 },
 "nbformat": 4,
 "nbformat_minor": 2
}
