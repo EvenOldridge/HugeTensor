{
 "cells": [
  {
   "cell_type": "markdown",
   "metadata": {},
   "source": [
    "# Huge Tensor Bug - Data loss"
   ]
  },
  {
   "cell_type": "markdown",
   "metadata": {},
   "source": [
    "## Requirements\n",
    "I'm running this on the standard 0.7\n",
    "[RAPIDS docker containers](https://hub.docker.com/r/rapidsai/rapidsai) and also\n",
    "need the following `pip` dependencies installed:"
   ]
  },
  {
   "cell_type": "code",
   "execution_count": 26,
   "metadata": {},
   "outputs": [
    {
     "name": "stdout",
     "output_type": "stream",
     "text": [
      "Requirement already satisfied: torch==1.0.1 in /conda/envs/rapids/lib/python3.6/site-packages (1.0.1)\n",
      "Requirement already satisfied: pytorch-ignite==0.1.2 in /conda/envs/rapids/lib/python3.6/site-packages (0.1.2)\n",
      "Requirement already satisfied: pyarrow in /conda/envs/rapids/lib/python3.6/site-packages (0.12.1)\n",
      "Requirement already satisfied: numpy>=1.14 in /conda/envs/rapids/lib/python3.6/site-packages (from pyarrow) (1.16.2)\n",
      "Requirement already satisfied: six>=1.0.0 in /conda/envs/rapids/lib/python3.6/site-packages (from pyarrow) (1.12.0)\n"
     ]
    }
   ],
   "source": [
    "!pip install torch==1.0.1"
   ]
  },
  {
   "cell_type": "markdown",
   "metadata": {},
   "source": [
    "If you're running this on your local machine you should have most things installed"
   ]
  },
  {
   "cell_type": "markdown",
   "metadata": {},
   "source": [
    "## CODE"
   ]
  },
  {
   "cell_type": "markdown",
   "metadata": {},
   "source": [
    "### Imports"
   ]
  },
  {
   "cell_type": "code",
   "execution_count": 1,
   "metadata": {},
   "outputs": [],
   "source": [
    "import torch"
   ]
  },
  {
   "cell_type": "code",
   "execution_count": 2,
   "metadata": {},
   "outputs": [],
   "source": [
    "%load_ext autoreload"
   ]
  },
  {
   "cell_type": "code",
   "execution_count": 3,
   "metadata": {},
   "outputs": [],
   "source": [
    "%autoreload 2"
   ]
  },
  {
   "cell_type": "markdown",
   "metadata": {},
   "source": [
    "#### In order to demonstrate this bug we need a large tensor"
   ]
  },
  {
   "cell_type": "code",
   "execution_count": 4,
   "metadata": {},
   "outputs": [],
   "source": [
    "features = torch.LongTensor(15000000, 45).random_(0, 2**22)\n",
    "#features = torch.FloatTensor(15000000, 90).random_(-1, 1)"
   ]
  },
  {
   "cell_type": "code",
   "execution_count": 5,
   "metadata": {},
   "outputs": [
    {
     "data": {
      "text/plain": [
       "tensor([2874842, 1426886, 2900003, 1340271, 1255904,   53916,  150306, 3135209,\n",
       "        1566565, 3700984,  199050, 2326381,  436634,    1117, 1546400, 4001063,\n",
       "        1472543, 1806464,  201497,  716067,   94419,  212859,  543911,  908213,\n",
       "        4174394, 3005976, 2171144, 2967139,  813713, 1516383,  686261, 3008736,\n",
       "        1182924, 3776220, 3716994, 3882399, 4064310, 2592183, 3436898, 1882412,\n",
       "         546035, 3549929, 4055420, 1432250, 1471965])"
      ]
     },
     "execution_count": 5,
     "metadata": {},
     "output_type": "execute_result"
    }
   ],
   "source": [
    "features[0]"
   ]
  },
  {
   "cell_type": "code",
   "execution_count": 6,
   "metadata": {},
   "outputs": [
    {
     "data": {
      "text/plain": [
       "tensor([2167864, 3165248, 1245852, 2146404, 3948645,  265299,  844671, 3354802,\n",
       "         590113, 2841125,  958101, 1508428, 3405411, 1697418,  301883, 3097217,\n",
       "         620701,  818595, 3024319, 3623090, 1033113,  289799,  200632, 3951973,\n",
       "        2293208, 1706245, 1716449, 3183350, 2641135, 1216988, 1998064, 2379344,\n",
       "        4049610, 3027779, 1925729, 3419792, 2398803, 3161385, 2171724, 2212434,\n",
       "        2186084, 3258908, 1923136, 3271952, 3799253])"
      ]
     },
     "execution_count": 6,
     "metadata": {},
     "output_type": "execute_result"
    }
   ],
   "source": [
    "features[14999999]"
   ]
  },
  {
   "cell_type": "markdown",
   "metadata": {},
   "source": [
    "Validate that the last element in the dataframe has data"
   ]
  },
  {
   "cell_type": "code",
   "execution_count": 7,
   "metadata": {},
   "outputs": [],
   "source": [
    "features2 = features.cuda()"
   ]
  },
  {
   "cell_type": "code",
   "execution_count": 8,
   "metadata": {},
   "outputs": [
    {
     "data": {
      "text/plain": [
       "tensor([2874842, 1426886, 2900003, 1340271, 1255904,   53916,  150306, 3135209,\n",
       "        1566565, 3700984,  199050, 2326381,  436634,    1117, 1546400, 4001063,\n",
       "        1472543, 1806464,  201497,  716067,   94419,  212859,  543911,  908213,\n",
       "        4174394, 3005976, 2171144, 2967139,  813713, 1516383,  686261, 3008736,\n",
       "        1182924, 3776220, 3716994, 3882399, 4064310, 2592183, 3436898, 1882412,\n",
       "         546035, 3549929, 4055420, 1432250, 1471965], device='cuda:0')"
      ]
     },
     "execution_count": 8,
     "metadata": {},
     "output_type": "execute_result"
    }
   ],
   "source": [
    "features2[0]"
   ]
  },
  {
   "cell_type": "code",
   "execution_count": 9,
   "metadata": {},
   "outputs": [
    {
     "data": {
      "text/plain": [
       "tensor([2167864, 3165248, 1245852, 2146404, 3948645,  265299,  844671, 3354802,\n",
       "         590113, 2841125,  958101, 1508428, 3405411, 1697418,  301883, 3097217,\n",
       "         620701,  818595, 3024319, 3623090, 1033113,  289799,  200632, 3951973,\n",
       "        2293208, 1706245, 1716449, 3183350, 2641135, 1216988, 1998064, 2379344,\n",
       "        4049610, 3027779, 1925729, 3419792, 2398803, 3161385, 2171724, 2212434,\n",
       "        2186084, 3258908, 1923136, 3271952, 3799253], device='cuda:0')"
      ]
     },
     "execution_count": 9,
     "metadata": {},
     "output_type": "execute_result"
    }
   ],
   "source": [
    "features2[14999999]"
   ]
  },
  {
   "cell_type": "code",
   "execution_count": 10,
   "metadata": {},
   "outputs": [],
   "source": [
    "features3 = features2[torch.randperm(len(features2))]"
   ]
  },
  {
   "cell_type": "code",
   "execution_count": 11,
   "metadata": {},
   "outputs": [
    {
     "data": {
      "text/plain": [
       "tensor([ 232678, 4128972,   14863, 2813414, 2908796, 3753613, 2405223, 2602856,\n",
       "        3152401,  829190, 1368736, 4086470, 1045409, 3881271, 2189020, 1881501,\n",
       "        3215912, 2919082, 3253875, 3140631,  600729, 3710989, 3068196, 1799416,\n",
       "        4106247, 2957127,  479433, 1466325, 2538156,  754164, 1337687, 1193884,\n",
       "        1258663, 2828806, 3600707,   32696, 3391579, 3882006, 1153262,  548138,\n",
       "        1612788, 2112974, 3762296,  572073, 1035993], device='cuda:0')"
      ]
     },
     "execution_count": 11,
     "metadata": {},
     "output_type": "execute_result"
    }
   ],
   "source": [
    "features3[0]"
   ]
  },
  {
   "cell_type": "code",
   "execution_count": 12,
   "metadata": {},
   "outputs": [
    {
     "data": {
      "text/plain": [
       "tensor([0, 0, 0, 0, 0, 0, 0, 0, 0, 0, 0, 0, 0, 0, 0, 0, 0, 0, 0, 0, 0, 0, 0, 0,\n",
       "        0, 0, 0, 0, 0, 0, 0, 0, 0, 0, 0, 0, 0, 0, 0, 0, 0, 0, 0, 0, 0],\n",
       "       device='cuda:0')"
      ]
     },
     "execution_count": 12,
     "metadata": {},
     "output_type": "execute_result"
    }
   ],
   "source": [
    "features3[14999999]"
   ]
  },
  {
   "cell_type": "markdown",
   "metadata": {},
   "source": [
    "Here's the boundary where this issue comes into play for this tensor.  All data after this point is 0."
   ]
  },
  {
   "cell_type": "code",
   "execution_count": 13,
   "metadata": {},
   "outputs": [
    {
     "data": {
      "text/plain": [
       "tensor([[3970338, 3882211, 2257313, 2996034, 2618937,  821899,  127752, 1941789,\n",
       "         2321753, 2531483, 1901012,   88791, 3273090,  396874, 1220971,  210458,\n",
       "         3162683, 1267541,  601566, 4155051,  320741, 1119626, 3992337, 1943076,\n",
       "         2601893, 2984709,  551029, 1772495, 3970556, 1795816,  788027, 3360688,\n",
       "         1369740, 2540040, 2186604, 2789128, 1974345, 1313554,  300582, 2928085,\n",
       "         3571232,  401539, 1025006, 1408648,   39732],\n",
       "        [3751935, 1031756, 2405813, 3240593,  170331,  633957, 1879662, 1310566,\n",
       "         2340410, 2586015, 1142524, 1461920, 3627306, 2920978,  707182, 2123344,\n",
       "         1924881, 2377270, 3865196,  376196, 3836740, 1428437, 1953505, 1174601,\n",
       "          383992, 4049732,  537351,  535581,  445718, 3649950, 1464503, 3661558,\n",
       "         2528252, 4129869, 1947744, 1848788,  993754, 1634504, 2315119,  298398,\n",
       "         2578542, 3066868, 3357185,  601327,  617268],\n",
       "        [2204282, 3078495,  426366,  225245, 2141891,  191852, 2205630, 1429943,\n",
       "         1645471, 3216298,  974325, 3178488, 2657371,  858170, 1114179, 1547940,\n",
       "         3546525,  433848, 2476023, 2127383,  307529, 1559651, 3096505, 2803433,\n",
       "         1931595,  713387, 2392568, 3194074, 1966322, 4191179,  659163, 2331813,\n",
       "          679586, 2518127, 3131051,  212269, 3644459,  139718, 2134419, 4019279,\n",
       "          993447, 2532405,  857042, 2294736,  306878],\n",
       "        [2660414,  422162, 2826407,  567379, 2435117,  752456, 2855881,  940853,\n",
       "         4021522, 3726447, 2055298,   65230, 1391788, 3060562,  670808, 3049153,\n",
       "         3767792, 1289737, 2204410,  622704, 1046899,  718151, 1110132,  577824,\n",
       "         2953743,  443011, 1499187, 3503783, 3497182, 3979730, 3446809, 3922169,\n",
       "         1335238, 3437229, 2541258, 1750720, 1447677, 1016222, 1213172, 1690589,\n",
       "          154973,  405342,  369986, 1030648, 1598631],\n",
       "        [1232500, 2229986, 2801138,  857451, 1743598,  712406,  487099, 1363960,\n",
       "         1184629, 4133873, 3014991,  165559, 3018457, 3403764,  820266, 2054849,\n",
       "         3065521, 1968822, 1450500, 4102635,  959896,  493645, 3123087,  314126,\n",
       "          913556, 1423793, 3169883, 2214348, 3745499,  741533, 1129027, 1512522,\n",
       "               0,       0,       0,       0,       0,       0,       0,       0,\n",
       "               0,       0,       0,       0,       0],\n",
       "        [      0,       0,       0,       0,       0,       0,       0,       0,\n",
       "               0,       0,       0,       0,       0,       0,       0,       0,\n",
       "               0,       0,       0,       0,       0,       0,       0,       0,\n",
       "               0,       0,       0,       0,       0,       0,       0,       0,\n",
       "               0,       0,       0,       0,       0,       0,       0,       0,\n",
       "               0,       0,       0,       0,       0],\n",
       "        [      0,       0,       0,       0,       0,       0,       0,       0,\n",
       "               0,       0,       0,       0,       0,       0,       0,       0,\n",
       "               0,       0,       0,       0,       0,       0,       0,       0,\n",
       "               0,       0,       0,       0,       0,       0,       0,       0,\n",
       "               0,       0,       0,       0,       0,       0,       0,       0,\n",
       "               0,       0,       0,       0,       0],\n",
       "        [      0,       0,       0,       0,       0,       0,       0,       0,\n",
       "               0,       0,       0,       0,       0,       0,       0,       0,\n",
       "               0,       0,       0,       0,       0,       0,       0,       0,\n",
       "               0,       0,       0,       0,       0,       0,       0,       0,\n",
       "               0,       0,       0,       0,       0,       0,       0,       0,\n",
       "               0,       0,       0,       0,       0],\n",
       "        [      0,       0,       0,       0,       0,       0,       0,       0,\n",
       "               0,       0,       0,       0,       0,       0,       0,       0,\n",
       "               0,       0,       0,       0,       0,       0,       0,       0,\n",
       "               0,       0,       0,       0,       0,       0,       0,       0,\n",
       "               0,       0,       0,       0,       0,       0,       0,       0,\n",
       "               0,       0,       0,       0,       0],\n",
       "        [      0,       0,       0,       0,       0,       0,       0,       0,\n",
       "               0,       0,       0,       0,       0,       0,       0,       0,\n",
       "               0,       0,       0,       0,       0,       0,       0,       0,\n",
       "               0,       0,       0,       0,       0,       0,       0,       0,\n",
       "               0,       0,       0,       0,       0,       0,       0,       0,\n",
       "               0,       0,       0,       0,       0]], device='cuda:0')"
      ]
     },
     "execution_count": 13,
     "metadata": {},
     "output_type": "execute_result"
    }
   ],
   "source": [
    "features3[11930460:11930470]"
   ]
  },
  {
   "cell_type": "code",
   "execution_count": null,
   "metadata": {},
   "outputs": [],
   "source": []
  },
  {
   "cell_type": "code",
   "execution_count": null,
   "metadata": {},
   "outputs": [],
   "source": []
  }
 ],
 "metadata": {
  "kernelspec": {
   "display_name": "Python 3",
   "language": "python",
   "name": "python3"
  },
  "language_info": {
   "codemirror_mode": {
    "name": "ipython",
    "version": 3
   },
   "file_extension": ".py",
   "mimetype": "text/x-python",
   "name": "python",
   "nbconvert_exporter": "python",
   "pygments_lexer": "ipython3",
   "version": "3.6.8"
  }
 },
 "nbformat": 4,
 "nbformat_minor": 2
}
