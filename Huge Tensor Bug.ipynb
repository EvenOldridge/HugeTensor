{
 "cells": [
  {
   "cell_type": "markdown",
   "metadata": {},
   "source": [
    "# Huge Tensor Bug"
   ]
  },
  {
   "cell_type": "markdown",
   "metadata": {},
   "source": [
    "## Requirements\n",
    "I'm running this on the standard \n",
    "[RAPIDS docker containers](https://hub.docker.com/r/rapidsai/rapidsai) and also\n",
    "need the following `pip` dependencies installed:"
   ]
  },
  {
   "cell_type": "code",
   "execution_count": 1,
   "metadata": {},
   "outputs": [
    {
     "name": "stdout",
     "output_type": "stream",
     "text": [
      "Requirement already satisfied: torch==1.0.1 in /conda/envs/rapids/lib/python3.6/site-packages (1.0.1)\n",
      "Requirement already satisfied: pytorch-ignite==0.1.2 in /conda/envs/rapids/lib/python3.6/site-packages (0.1.2)\n"
     ]
    }
   ],
   "source": [
    "!pip install torch==1.0.1 pytorch-ignite==0.1.2"
   ]
  },
  {
   "cell_type": "markdown",
   "metadata": {},
   "source": []
  },
  {
   "cell_type": "code",
   "execution_count": null,
   "metadata": {},
   "outputs": [],
   "source": []
  },
  {
   "cell_type": "markdown",
   "metadata": {},
   "source": [
    "## CODE"
   ]
  },
  {
   "cell_type": "markdown",
   "metadata": {},
   "source": [
    "### Imports"
   ]
  },
  {
   "cell_type": "code",
   "execution_count": 2,
   "metadata": {},
   "outputs": [],
   "source": [
    "from collections import defaultdict, OrderedDict\n",
    "import datetime as dt\n",
    "import glob\n",
    "import os\n",
    "import re\n",
    "import subprocess\n",
    "import tempfile\n",
    "import time\n",
    "#import dask\n",
    "#from dask.delayed import delayed\n",
    "#from dask.distributed import as_completed, Client, wait\n",
    "#from dask_cuda import LocalCUDACluster\n",
    "from ignite.engine import create_supervised_evaluator, create_supervised_trainer, Events\n",
    "from ignite.handlers import EarlyStopping as IgniteEarlyStopping\n",
    "from ignite.metrics import Loss, Metric\n",
    "#import numpy as np\n",
    "#import pyarrow.parquet as pq\n",
    "from sklearn.metrics import auc, precision_recall_curve\n",
    "import torch\n",
    "from torch import nn\n",
    "import torch.nn.functional as F\n",
    "import torch.optim as torch_optim\n",
    "from torch.utils import data as torch_data\n",
    "\n",
    "# CUDF_VERSION = tuple(map(int, cudf.__version__.split(\".\")[:3]))\n",
    "# assert CUDF_VERSION >= (0, 6, 0), \"cudf version must be at least 0.6.0! Found {}!\".format(CUDF_VERSION)"
   ]
  },
  {
   "cell_type": "code",
   "execution_count": 3,
   "metadata": {},
   "outputs": [],
   "source": [
    "#from torch.utils.dlpack import from_dlpack, to_dlpack"
   ]
  },
  {
   "cell_type": "code",
   "execution_count": 4,
   "metadata": {},
   "outputs": [],
   "source": [
    "#from librmm_cffi import librmm_config as rmm_cfg\n",
    "#rmm_cfg.use_pool_allocator = True"
   ]
  },
  {
   "cell_type": "code",
   "execution_count": 5,
   "metadata": {},
   "outputs": [
    {
     "data": {
      "text/plain": [
       "'0.7.0.dev0+1505.g7cb7142'"
      ]
     },
     "execution_count": 5,
     "metadata": {},
     "output_type": "execute_result"
    }
   ],
   "source": [
    "#import cudf\n",
    "#cudf.__version__"
   ]
  },
  {
   "cell_type": "code",
   "execution_count": 6,
   "metadata": {},
   "outputs": [
    {
     "data": {
      "text/plain": [
       "'0.12.1'"
      ]
     },
     "execution_count": 6,
     "metadata": {},
     "output_type": "execute_result"
    }
   ],
   "source": [
    "#import pyarrow\n",
    "#pyarrow.__version__"
   ]
  },
  {
   "cell_type": "code",
   "execution_count": 7,
   "metadata": {},
   "outputs": [],
   "source": [
    "import pdb"
   ]
  },
  {
   "cell_type": "code",
   "execution_count": 8,
   "metadata": {},
   "outputs": [],
   "source": [
    "%load_ext autoreload"
   ]
  },
  {
   "cell_type": "code",
   "execution_count": 9,
   "metadata": {},
   "outputs": [],
   "source": [
    "%autoreload 2"
   ]
  },
  {
   "cell_type": "markdown",
   "metadata": {},
   "source": [
    "## Configuration"
   ]
  },
  {
   "cell_type": "markdown",
   "metadata": {},
   "source": [
    "#### ETL - Discretization"
   ]
  },
  {
   "cell_type": "code",
   "execution_count": 11,
   "metadata": {},
   "outputs": [],
   "source": [
    "max_quantiles = 20  # Used for computing histograms of continuous features\n",
    "num_features = 2 ** 22  # When hashing features range will be [0, num_features)"
   ]
  },
  {
   "cell_type": "markdown",
   "metadata": {},
   "source": [
    "#### Training - Model"
   ]
  },
  {
   "cell_type": "code",
   "execution_count": 12,
   "metadata": {},
   "outputs": [],
   "source": [
    "embedding_size = 32\n",
    "hidden_dims = [600,600,600,600]\n",
    "\n",
    "device = 'cuda'\n",
    "dropout = None  # Can add dropout probability in [0, 1] here\n",
    "activation = nn.ReLU()"
   ]
  },
  {
   "cell_type": "markdown",
   "metadata": {},
   "source": [
    "#### Training - Optimization"
   ]
  },
  {
   "cell_type": "code",
   "execution_count": 13,
   "metadata": {},
   "outputs": [],
   "source": [
    "epoch_size = 10000000\n",
    "\n",
    "train_batch_size = 2048\n",
    "validation_batch_size = train_batch_size*2\n",
    "\n",
    "log_interval = 100*2048//train_batch_size\n",
    "\n",
    "learning_rate = 0.01\n",
    "patience = 4\n",
    "lr_multiplier = 0.5\n",
    "max_epochs = 3  # Increase this for a more realistic training run "
   ]
  },
  {
   "cell_type": "markdown",
   "metadata": {},
   "source": [
    "## PyTorch DNN Model"
   ]
  },
  {
   "cell_type": "code",
   "execution_count": 14,
   "metadata": {},
   "outputs": [],
   "source": [
    "def _make_hidden_layer(in_dim, out_dim, activation, dropout=None):\n",
    "    if dropout:\n",
    "        return nn.Sequential(nn.Linear(in_dim, out_dim), activation, nn.Dropout(p=dropout))\n",
    "    return nn.Sequential(nn.Linear(in_dim, out_dim), activation)\n",
    "\n",
    "\n",
    "class MortgageNetwork(nn.Module):\n",
    "    \"\"\"Mortgage Delinquency DNN.\"\"\"\n",
    "\n",
    "    def __init__(\n",
    "        self,\n",
    "        num_features,\n",
    "        embedding_size,\n",
    "        hidden_dims,\n",
    "        use_cuda=True,\n",
    "        activation=nn.ReLU(),\n",
    "        dropout=None,\n",
    "        embedding_bag_mode='mean'\n",
    "    ):\n",
    "        super(MortgageNetwork, self).__init__()\n",
    "        self.input_size = num_features\n",
    "        self.embedding_size = embedding_size\n",
    "        if use_cuda and torch.cuda.is_available():\n",
    "            self.device = torch.device(\"cuda\")\n",
    "        else:\n",
    "            self.device = torch.device(\"cpu\")\n",
    "        self.activation = activation\n",
    "        self.dropout = dropout\n",
    "\n",
    "        self.embedding = nn.modules.EmbeddingBag(self.input_size, self.embedding_size,\n",
    "                                                 mode=embedding_bag_mode)\n",
    "\n",
    "        if len(hidden_dims) > 0:\n",
    "            dims = [self.embedding_size] + hidden_dims\n",
    "            hidden_layers = [\n",
    "                _make_hidden_layer(dims[i], dims[i + 1], self.activation, self.dropout)\n",
    "                for i in range(len(dims) - 1)\n",
    "            ]\n",
    "            self.hidden_layers = nn.ModuleList(hidden_layers)\n",
    "            self.hidden_layers.extend([nn.Linear(dims[-1], 1)])\n",
    "        else:\n",
    "            self.hidden_layers = []\n",
    "\n",
    "        self.to(self.device)\n",
    "\n",
    "    def forward(self, x):\n",
    "        \"\"\"Forward pass.\"\"\"\n",
    "        out = self.embedding(x)\n",
    "        out = self.activation(out)\n",
    "        for layer in self.hidden_layers:\n",
    "            out = layer(out)\n",
    "        return out.squeeze()"
   ]
  },
  {
   "cell_type": "markdown",
   "metadata": {},
   "source": [
    "## Training "
   ]
  },
  {
   "cell_type": "code",
   "execution_count": 15,
   "metadata": {},
   "outputs": [],
   "source": [
    "def run_training(model, batch_dataload=False, num_workers=0, use_cuDF=False):\n",
    "    # Data\n",
    "    if batch_dataload:\n",
    "        train_dataset = load_torch_dataset(os.path.join(out_dir, \"train\"), epoch_size,\n",
    "                                         batch_size=train_batch_size, use_cuDF=use_cuDF, num_files=1)\n",
    "#         validation_dataset = load_torch_dataset(os.path.join(out_dir, \"validation\"),\n",
    "#                                              batch_size=validation_batch_size, use_cuDF=use_cuDF, num_files=None)\n",
    "#         test_dataset = load_torch_dataset(os.path.join(out_dir, \"test\"),\n",
    "#                                              batch_size=validation_batch_size, use_cuDF=use_cuDF, num_files=None)\n",
    "\n",
    "        #train_loader = torch_data.DataLoader(train_dataset,\n",
    "        train_loader = batch_dataloader.BatchDataLoader(train_dataset,\n",
    "                                         num_workers=0, shuffle=True)\n",
    "#         validation_loader = batch_dataloader.BatchDataLoader(validation_dataset,\n",
    "#                                              num_workers=0)\n",
    "#         test_loader = batch_dataloader.BatchDataLoader(test_dataset,\n",
    "#                                             num_workers=0)\n",
    "    else:\n",
    "        train_dataset = load_torch_dataset(os.path.join(out_dir, \"train\"), epoch_size, shuffle_files=False)\n",
    "        validation_dataset = load_torch_dataset(os.path.join(out_dir, \"validation\"))\n",
    "        test_dataset = load_torch_dataset(os.path.join(out_dir, \"test\"))\n",
    "\n",
    "        train_loader = torch_data.DataLoader(train_dataset,\n",
    "                                         batch_size=train_batch_size,\n",
    "                                         num_workers=num_workers)\n",
    "        validation_loader = torch_data.DataLoader(validation_dataset,\n",
    "                                             batch_size=validation_batch_size,\n",
    "                                             num_workers=num_workers)\n",
    "        test_loader = torch_data.DataLoader(test_dataset,\n",
    "                                            batch_size=validation_batch_size,\n",
    "                                            num_workers=num_workers)        \n",
    "    # Optimizer\n",
    "    optimizer = torch_optim.Adam(model.parameters(), lr=learning_rate)\n",
    "    \n",
    "    # Loss Function\n",
    "    loss_fn = lambda pred, target: F.binary_cross_entropy_with_logits(pred, target)\n",
    "\n",
    "    trainer = create_supervised_trainer(model=model, optimizer=optimizer, loss_fn=loss_fn, device=device)\n",
    "\n",
    "    # Events\n",
    "    @trainer.on(Events.EPOCH_STARTED)\n",
    "    def timer(engine):\n",
    "        setattr(engine.state, \"epoch_start\", time.time())\n",
    "\n",
    "    num_epoch_batches = len(train_loader)\n",
    "    examples_per_epoch = num_epoch_batches * train_batch_size\n",
    "    @trainer.on(Events.ITERATION_COMPLETED)\n",
    "    def log_training_loss(engine):\n",
    "        iter = (engine.state.iteration - 1) % num_epoch_batches + 1\n",
    "        if iter % log_interval == 0:\n",
    "            epoch_time_elapsed = time.time() - engine.state.epoch_start\n",
    "            examples = engine.state.iteration * train_batch_size\n",
    "            epoch_examples_per_second = (examples - (engine.state.epoch - 1) * examples_per_epoch) / epoch_time_elapsed\n",
    "            print(\n",
    "                \"Epoch[{}] Iteration[{}/{}] Loss: {:.5f} Example/s: {:.3f} (Total examples: {})\".format(\n",
    "                    engine.state.epoch, iter, num_epoch_batches, engine.state.output,\n",
    "                    epoch_examples_per_second, examples))\n",
    "\n",
    "\n",
    "    trainer.run(train_loader, max_epochs=max_epochs)"
   ]
  },
  {
   "cell_type": "markdown",
   "metadata": {},
   "source": [
    "## New Version of the Dataloader using dlpack"
   ]
  },
  {
   "cell_type": "code",
   "execution_count": 16,
   "metadata": {},
   "outputs": [],
   "source": [
    "import batch_dataset, batch_dataloader"
   ]
  },
  {
   "cell_type": "code",
   "execution_count": 17,
   "metadata": {},
   "outputs": [],
   "source": [
    "# This is the dataset that I discovered the issue with\n",
    "def load_torch_dataset(root_path, num_samples=None, num_files=1, batch_size=1, use_cuDF=False):\n",
    "    return batch_dataset.ParquetBatchDataset(root_path, batch_size = batch_size, num_files=num_files, use_cuDF=use_cuDF, file_offset=4)"
   ]
  },
  {
   "cell_type": "code",
   "execution_count": 21,
   "metadata": {},
   "outputs": [],
   "source": [
    "# Create a dataset of random tensors that fit the model (45 wide longtensor, 1 wide float tensor target)\n",
    "def load_torch_dataset(root_path, num_samples=None, num_files=1, batch_size=1, use_cuDF=False):\n",
    "    return batch_dataset.RandomLongBatchDataset(num_samples = 15000000, batch_size = batch_size, cpu_mem=False)"
   ]
  },
  {
   "cell_type": "code",
   "execution_count": 23,
   "metadata": {},
   "outputs": [],
   "source": [
    "out_dir=''"
   ]
  },
  {
   "cell_type": "code",
   "execution_count": 24,
   "metadata": {},
   "outputs": [],
   "source": [
    "model = None\n",
    "model = MortgageNetwork(num_features, embedding_size, hidden_dims,\n",
    "                        dropout=dropout, activation=activation, use_cuda=True)"
   ]
  },
  {
   "cell_type": "markdown",
   "metadata": {},
   "source": [
    "## Performance issue\n",
    "Slowdown occurs around 12M examples.  Examples/s start getting slower and even when the epoch resets to access the memory that used to be fast performance is still poor and continues to degrade.\n",
    "\n",
    "You can see epoch 2 is about 1/2 as fast and performance keeps getting worse.\n",
    "\n",
    "I've tried to offset the dataloader so that it starts in that memory region and the slowdown is immediate and starts at around 25K examples/s, even worse than the worst results here."
   ]
  },
  {
   "cell_type": "code",
   "execution_count": 25,
   "metadata": {},
   "outputs": [
    {
     "name": "stdout",
     "output_type": "stream",
     "text": [
      "Epoch[1] Iteration[100/7324] Loss: 0.00000 Example/s: 86520.171 (Total examples: 204800)\n",
      "Epoch[1] Iteration[200/7324] Loss: 0.00000 Example/s: 98507.323 (Total examples: 409600)\n",
      "Epoch[1] Iteration[300/7324] Loss: 0.00000 Example/s: 103318.410 (Total examples: 614400)\n",
      "Epoch[1] Iteration[400/7324] Loss: 0.00000 Example/s: 105624.233 (Total examples: 819200)\n",
      "Epoch[1] Iteration[500/7324] Loss: 0.00000 Example/s: 107112.090 (Total examples: 1024000)\n",
      "Epoch[1] Iteration[600/7324] Loss: 0.00000 Example/s: 108130.254 (Total examples: 1228800)\n",
      "Epoch[1] Iteration[700/7324] Loss: 0.00000 Example/s: 108869.712 (Total examples: 1433600)\n",
      "Epoch[1] Iteration[800/7324] Loss: 0.00000 Example/s: 109449.659 (Total examples: 1638400)\n",
      "Epoch[1] Iteration[900/7324] Loss: 0.00000 Example/s: 109884.480 (Total examples: 1843200)\n",
      "Epoch[1] Iteration[1000/7324] Loss: 0.00000 Example/s: 110242.788 (Total examples: 2048000)\n",
      "Epoch[1] Iteration[1100/7324] Loss: 0.00000 Example/s: 110541.374 (Total examples: 2252800)\n",
      "Epoch[1] Iteration[1200/7324] Loss: 0.00000 Example/s: 110797.890 (Total examples: 2457600)\n",
      "Epoch[1] Iteration[1300/7324] Loss: 0.00000 Example/s: 111016.621 (Total examples: 2662400)\n",
      "Epoch[1] Iteration[1400/7324] Loss: 0.00000 Example/s: 111156.350 (Total examples: 2867200)\n",
      "Epoch[1] Iteration[1500/7324] Loss: 0.00000 Example/s: 111322.362 (Total examples: 3072000)\n",
      "Epoch[1] Iteration[1600/7324] Loss: 0.00000 Example/s: 111468.212 (Total examples: 3276800)\n",
      "Epoch[1] Iteration[1700/7324] Loss: 0.00000 Example/s: 111602.119 (Total examples: 3481600)\n",
      "Epoch[1] Iteration[1800/7324] Loss: 0.00000 Example/s: 111711.776 (Total examples: 3686400)\n",
      "Epoch[1] Iteration[1900/7324] Loss: 0.00000 Example/s: 111811.155 (Total examples: 3891200)\n",
      "Epoch[1] Iteration[2000/7324] Loss: 0.00000 Example/s: 111905.820 (Total examples: 4096000)\n",
      "Epoch[1] Iteration[2100/7324] Loss: 0.00000 Example/s: 111986.614 (Total examples: 4300800)\n",
      "Epoch[1] Iteration[2200/7324] Loss: 0.00000 Example/s: 112063.157 (Total examples: 4505600)\n",
      "Epoch[1] Iteration[2300/7324] Loss: 0.00000 Example/s: 112126.454 (Total examples: 4710400)\n",
      "Epoch[1] Iteration[2400/7324] Loss: 0.00000 Example/s: 112191.741 (Total examples: 4915200)\n",
      "Epoch[1] Iteration[2500/7324] Loss: 0.00000 Example/s: 112254.277 (Total examples: 5120000)\n",
      "Epoch[1] Iteration[2600/7324] Loss: 0.00000 Example/s: 112309.670 (Total examples: 5324800)\n",
      "Epoch[1] Iteration[2700/7324] Loss: 0.00000 Example/s: 112348.711 (Total examples: 5529600)\n",
      "Epoch[1] Iteration[2800/7324] Loss: 0.00000 Example/s: 112368.869 (Total examples: 5734400)\n",
      "Epoch[1] Iteration[2900/7324] Loss: 0.00000 Example/s: 112415.917 (Total examples: 5939200)\n",
      "Epoch[1] Iteration[3000/7324] Loss: 0.00000 Example/s: 112460.344 (Total examples: 6144000)\n",
      "Epoch[1] Iteration[3100/7324] Loss: 0.00000 Example/s: 112501.193 (Total examples: 6348800)\n",
      "Epoch[1] Iteration[3200/7324] Loss: 0.00000 Example/s: 112538.085 (Total examples: 6553600)\n",
      "Epoch[1] Iteration[3300/7324] Loss: 0.00000 Example/s: 112574.544 (Total examples: 6758400)\n",
      "Epoch[1] Iteration[3400/7324] Loss: 0.00000 Example/s: 112604.458 (Total examples: 6963200)\n",
      "Epoch[1] Iteration[3500/7324] Loss: 0.00000 Example/s: 112636.380 (Total examples: 7168000)\n",
      "Epoch[1] Iteration[3600/7324] Loss: 0.00000 Example/s: 112663.343 (Total examples: 7372800)\n",
      "Epoch[1] Iteration[3700/7324] Loss: 0.00000 Example/s: 112699.444 (Total examples: 7577600)\n",
      "Epoch[1] Iteration[3800/7324] Loss: 0.00000 Example/s: 112742.836 (Total examples: 7782400)\n",
      "Epoch[1] Iteration[3900/7324] Loss: 0.00000 Example/s: 112784.028 (Total examples: 7987200)\n",
      "Epoch[1] Iteration[4000/7324] Loss: 0.00000 Example/s: 112822.460 (Total examples: 8192000)\n",
      "Epoch[1] Iteration[4100/7324] Loss: 0.00000 Example/s: 112859.935 (Total examples: 8396800)\n",
      "Epoch[1] Iteration[4200/7324] Loss: 0.00000 Example/s: 112890.555 (Total examples: 8601600)\n",
      "Epoch[1] Iteration[4300/7324] Loss: 0.00000 Example/s: 112925.220 (Total examples: 8806400)\n",
      "Epoch[1] Iteration[4400/7324] Loss: 0.00000 Example/s: 112957.545 (Total examples: 9011200)\n",
      "Epoch[1] Iteration[4500/7324] Loss: 0.00000 Example/s: 112989.479 (Total examples: 9216000)\n",
      "Epoch[1] Iteration[4600/7324] Loss: 0.00000 Example/s: 113021.115 (Total examples: 9420800)\n",
      "Epoch[1] Iteration[4700/7324] Loss: 0.00000 Example/s: 113052.044 (Total examples: 9625600)\n",
      "Epoch[1] Iteration[4800/7324] Loss: 0.00000 Example/s: 113077.845 (Total examples: 9830400)\n",
      "Epoch[1] Iteration[4900/7324] Loss: 0.00000 Example/s: 113096.843 (Total examples: 10035200)\n",
      "Epoch[1] Iteration[5000/7324] Loss: 0.00000 Example/s: 113124.239 (Total examples: 10240000)\n",
      "Epoch[1] Iteration[5100/7324] Loss: 0.00000 Example/s: 113150.865 (Total examples: 10444800)\n",
      "Epoch[1] Iteration[5200/7324] Loss: 0.00000 Example/s: 113176.235 (Total examples: 10649600)\n",
      "Epoch[1] Iteration[5300/7324] Loss: 0.00000 Example/s: 113191.117 (Total examples: 10854400)\n",
      "Epoch[1] Iteration[5400/7324] Loss: 0.00000 Example/s: 113207.862 (Total examples: 11059200)\n",
      "Epoch[1] Iteration[5500/7324] Loss: 0.00000 Example/s: 113224.364 (Total examples: 11264000)\n",
      "Epoch[1] Iteration[5600/7324] Loss: 0.00000 Example/s: 113240.007 (Total examples: 11468800)\n",
      "Epoch[1] Iteration[5700/7324] Loss: 0.00000 Example/s: 113251.557 (Total examples: 11673600)\n",
      "Epoch[1] Iteration[5800/7324] Loss: 0.00000 Example/s: 113265.071 (Total examples: 11878400)\n",
      "Epoch[1] Iteration[5900/7324] Loss: 0.00000 Example/s: 108807.689 (Total examples: 12083200)\n",
      "Epoch[1] Iteration[6000/7324] Loss: 0.00000 Example/s: 103504.479 (Total examples: 12288000)\n",
      "Epoch[1] Iteration[6100/7324] Loss: 0.00000 Example/s: 98844.659 (Total examples: 12492800)\n",
      "Epoch[1] Iteration[6200/7324] Loss: 0.00000 Example/s: 94717.953 (Total examples: 12697600)\n",
      "Epoch[1] Iteration[6300/7324] Loss: 0.00000 Example/s: 91038.429 (Total examples: 12902400)\n",
      "Epoch[1] Iteration[6400/7324] Loss: 0.00000 Example/s: 87737.260 (Total examples: 13107200)\n",
      "Epoch[1] Iteration[6500/7324] Loss: 0.00000 Example/s: 84757.242 (Total examples: 13312000)\n",
      "Epoch[1] Iteration[6600/7324] Loss: 0.00000 Example/s: 82055.615 (Total examples: 13516800)\n",
      "Epoch[1] Iteration[6700/7324] Loss: 0.00000 Example/s: 79594.476 (Total examples: 13721600)\n",
      "Epoch[1] Iteration[6800/7324] Loss: 0.00000 Example/s: 77343.012 (Total examples: 13926400)\n",
      "Epoch[1] Iteration[6900/7324] Loss: 0.00000 Example/s: 75275.451 (Total examples: 14131200)\n",
      "Epoch[1] Iteration[7000/7324] Loss: 0.00000 Example/s: 73370.199 (Total examples: 14336000)\n",
      "Epoch[1] Iteration[7100/7324] Loss: 0.00000 Example/s: 71607.607 (Total examples: 14540800)\n",
      "Epoch[1] Iteration[7200/7324] Loss: 0.00000 Example/s: 69974.013 (Total examples: 14745600)\n",
      "Epoch[1] Iteration[7300/7324] Loss: 0.00000 Example/s: 68455.399 (Total examples: 14950400)\n",
      "Epoch[2] Iteration[100/7324] Loss: 0.00000 Example/s: 55576.055 (Total examples: 15204352)\n",
      "Epoch[2] Iteration[200/7324] Loss: 0.00000 Example/s: 60735.905 (Total examples: 15409152)\n",
      "Epoch[2] Iteration[300/7324] Loss: 0.00000 Example/s: 62685.103 (Total examples: 15613952)\n",
      "Epoch[2] Iteration[400/7324] Loss: 0.00000 Example/s: 63677.684 (Total examples: 15818752)\n",
      "Epoch[2] Iteration[500/7324] Loss: 0.00000 Example/s: 64284.248 (Total examples: 16023552)\n",
      "Epoch[2] Iteration[600/7324] Loss: 0.00000 Example/s: 64708.604 (Total examples: 16228352)\n",
      "Epoch[2] Iteration[700/7324] Loss: 0.00000 Example/s: 64986.476 (Total examples: 16433152)\n",
      "Epoch[2] Iteration[800/7324] Loss: 0.00000 Example/s: 65209.893 (Total examples: 16637952)\n",
      "Epoch[2] Iteration[900/7324] Loss: 0.00000 Example/s: 65403.117 (Total examples: 16842752)\n",
      "Epoch[2] Iteration[1000/7324] Loss: 0.00000 Example/s: 65560.347 (Total examples: 17047552)\n",
      "Epoch[2] Iteration[1100/7324] Loss: 0.00000 Example/s: 65681.321 (Total examples: 17252352)\n",
      "Epoch[2] Iteration[1200/7324] Loss: 0.00000 Example/s: 65777.747 (Total examples: 17457152)\n",
      "Epoch[2] Iteration[1300/7324] Loss: 0.00000 Example/s: 65864.341 (Total examples: 17661952)\n",
      "Epoch[2] Iteration[1400/7324] Loss: 0.00000 Example/s: 65940.021 (Total examples: 17866752)\n",
      "Epoch[2] Iteration[1500/7324] Loss: 0.00000 Example/s: 66006.785 (Total examples: 18071552)\n",
      "Epoch[2] Iteration[1600/7324] Loss: 0.00000 Example/s: 66057.044 (Total examples: 18276352)\n",
      "Epoch[2] Iteration[1700/7324] Loss: 0.00000 Example/s: 66105.569 (Total examples: 18481152)\n",
      "Epoch[2] Iteration[1800/7324] Loss: 0.00000 Example/s: 66142.020 (Total examples: 18685952)\n",
      "Epoch[2] Iteration[1900/7324] Loss: 0.00000 Example/s: 66177.058 (Total examples: 18890752)\n",
      "Epoch[2] Iteration[2000/7324] Loss: 0.00000 Example/s: 66210.286 (Total examples: 19095552)\n",
      "Epoch[2] Iteration[2100/7324] Loss: 0.00000 Example/s: 66240.807 (Total examples: 19300352)\n",
      "Epoch[2] Iteration[2200/7324] Loss: 0.00000 Example/s: 66268.317 (Total examples: 19505152)\n",
      "Epoch[2] Iteration[2300/7324] Loss: 0.00000 Example/s: 66284.766 (Total examples: 19709952)\n",
      "Epoch[2] Iteration[2400/7324] Loss: 0.00000 Example/s: 66312.819 (Total examples: 19914752)\n",
      "Epoch[2] Iteration[2500/7324] Loss: 0.00000 Example/s: 66337.127 (Total examples: 20119552)\n",
      "Epoch[2] Iteration[2600/7324] Loss: 0.00000 Example/s: 66358.590 (Total examples: 20324352)\n",
      "Epoch[2] Iteration[2700/7324] Loss: 0.00000 Example/s: 66376.857 (Total examples: 20529152)\n",
      "Epoch[2] Iteration[2800/7324] Loss: 0.00000 Example/s: 66398.556 (Total examples: 20733952)\n",
      "Epoch[2] Iteration[2900/7324] Loss: 0.00000 Example/s: 66411.644 (Total examples: 20938752)\n",
      "Epoch[2] Iteration[3000/7324] Loss: 0.00000 Example/s: 66424.190 (Total examples: 21143552)\n",
      "Epoch[2] Iteration[3100/7324] Loss: 0.00000 Example/s: 66439.859 (Total examples: 21348352)\n",
      "Epoch[2] Iteration[3200/7324] Loss: 0.00000 Example/s: 66450.699 (Total examples: 21553152)\n",
      "Epoch[2] Iteration[3300/7324] Loss: 0.00000 Example/s: 66465.896 (Total examples: 21757952)\n",
      "Epoch[2] Iteration[3400/7324] Loss: 0.00000 Example/s: 66471.721 (Total examples: 21962752)\n",
      "Epoch[2] Iteration[3500/7324] Loss: 0.00000 Example/s: 66476.386 (Total examples: 22167552)\n",
      "Epoch[2] Iteration[3600/7324] Loss: 0.00000 Example/s: 66485.034 (Total examples: 22372352)\n",
      "Epoch[2] Iteration[3700/7324] Loss: 0.00000 Example/s: 66495.586 (Total examples: 22577152)\n",
      "Epoch[2] Iteration[3800/7324] Loss: 0.00000 Example/s: 66507.832 (Total examples: 22781952)\n",
      "Epoch[2] Iteration[3900/7324] Loss: 0.00000 Example/s: 66511.949 (Total examples: 22986752)\n",
      "Epoch[2] Iteration[4000/7324] Loss: 0.00000 Example/s: 66519.593 (Total examples: 23191552)\n",
      "Epoch[2] Iteration[4100/7324] Loss: 0.00000 Example/s: 66524.879 (Total examples: 23396352)\n",
      "Epoch[2] Iteration[4200/7324] Loss: 0.00000 Example/s: 66530.957 (Total examples: 23601152)\n",
      "Epoch[2] Iteration[4300/7324] Loss: 0.00000 Example/s: 66541.287 (Total examples: 23805952)\n",
      "Epoch[2] Iteration[4400/7324] Loss: 0.00000 Example/s: 66549.356 (Total examples: 24010752)\n",
      "Epoch[2] Iteration[4500/7324] Loss: 0.00000 Example/s: 66552.144 (Total examples: 24215552)\n",
      "Epoch[2] Iteration[4600/7324] Loss: 0.00000 Example/s: 66558.695 (Total examples: 24420352)\n",
      "Epoch[2] Iteration[4700/7324] Loss: 0.00000 Example/s: 66563.324 (Total examples: 24625152)\n",
      "Epoch[2] Iteration[4800/7324] Loss: 0.00000 Example/s: 66567.597 (Total examples: 24829952)\n",
      "Epoch[2] Iteration[4900/7324] Loss: 0.00000 Example/s: 66572.811 (Total examples: 25034752)\n",
      "Epoch[2] Iteration[5000/7324] Loss: 0.00000 Example/s: 66571.943 (Total examples: 25239552)\n",
      "Epoch[2] Iteration[5100/7324] Loss: 0.00000 Example/s: 66578.653 (Total examples: 25444352)\n",
      "Epoch[2] Iteration[5200/7324] Loss: 0.00000 Example/s: 66581.233 (Total examples: 25649152)\n",
      "Epoch[2] Iteration[5300/7324] Loss: 0.00000 Example/s: 66585.096 (Total examples: 25853952)\n",
      "Epoch[2] Iteration[5400/7324] Loss: 0.00000 Example/s: 66587.909 (Total examples: 26058752)\n",
      "Epoch[2] Iteration[5500/7324] Loss: 0.00000 Example/s: 66591.029 (Total examples: 26263552)\n",
      "Epoch[2] Iteration[5600/7324] Loss: 0.00000 Example/s: 66592.314 (Total examples: 26468352)\n",
      "Epoch[2] Iteration[5700/7324] Loss: 0.00000 Example/s: 66590.897 (Total examples: 26673152)\n",
      "Epoch[2] Iteration[5800/7324] Loss: 0.00000 Example/s: 66596.233 (Total examples: 26877952)\n",
      "Epoch[2] Iteration[5900/7324] Loss: 0.00000 Example/s: 65362.130 (Total examples: 27082752)\n",
      "Epoch[2] Iteration[6000/7324] Loss: 0.00000 Example/s: 63821.875 (Total examples: 27287552)\n",
      "Epoch[2] Iteration[6100/7324] Loss: 0.00000 Example/s: 62399.674 (Total examples: 27492352)\n",
      "Epoch[2] Iteration[6200/7324] Loss: 0.00000 Example/s: 61082.318 (Total examples: 27697152)\n",
      "Epoch[2] Iteration[6300/7324] Loss: 0.00000 Example/s: 59858.680 (Total examples: 27901952)\n",
      "Epoch[2] Iteration[6400/7324] Loss: 0.00000 Example/s: 58719.045 (Total examples: 28106752)\n",
      "Epoch[2] Iteration[6500/7324] Loss: 0.00000 Example/s: 57655.241 (Total examples: 28311552)\n",
      "Epoch[2] Iteration[6600/7324] Loss: 0.00000 Example/s: 56659.658 (Total examples: 28516352)\n",
      "Epoch[2] Iteration[6700/7324] Loss: 0.00000 Example/s: 55725.962 (Total examples: 28721152)\n",
      "Epoch[2] Iteration[6800/7324] Loss: 0.00000 Example/s: 54848.875 (Total examples: 28925952)\n",
      "Epoch[2] Iteration[6900/7324] Loss: 0.00000 Example/s: 54023.401 (Total examples: 29130752)\n",
      "Epoch[2] Iteration[7000/7324] Loss: 0.00000 Example/s: 53244.941 (Total examples: 29335552)\n",
      "Epoch[2] Iteration[7100/7324] Loss: 0.00000 Example/s: 52509.541 (Total examples: 29540352)\n",
      "Epoch[2] Iteration[7200/7324] Loss: 0.00000 Example/s: 51813.862 (Total examples: 29745152)\n",
      "Epoch[2] Iteration[7300/7324] Loss: 0.00000 Example/s: 51154.748 (Total examples: 29949952)\n",
      "Epoch[3] Iteration[100/7324] Loss: 0.00000 Example/s: 43949.572 (Total examples: 30203904)\n",
      "Epoch[3] Iteration[200/7324] Loss: 0.00000 Example/s: 46955.632 (Total examples: 30408704)\n",
      "Epoch[3] Iteration[300/7324] Loss: 0.00000 Example/s: 48029.478 (Total examples: 30613504)\n",
      "Epoch[3] Iteration[400/7324] Loss: 0.00000 Example/s: 48617.224 (Total examples: 30818304)\n",
      "Epoch[3] Iteration[500/7324] Loss: 0.00000 Example/s: 48923.626 (Total examples: 31023104)\n",
      "Epoch[3] Iteration[600/7324] Loss: 0.00000 Example/s: 49144.681 (Total examples: 31227904)\n",
      "Epoch[3] Iteration[700/7324] Loss: 0.00000 Example/s: 49337.699 (Total examples: 31432704)\n",
      "Epoch[3] Iteration[800/7324] Loss: 0.00000 Example/s: 49467.584 (Total examples: 31637504)\n",
      "Epoch[3] Iteration[900/7324] Loss: 0.00000 Example/s: 49568.927 (Total examples: 31842304)\n",
      "Epoch[3] Iteration[1000/7324] Loss: 0.00000 Example/s: 49639.778 (Total examples: 32047104)\n",
      "Epoch[3] Iteration[1100/7324] Loss: 0.00000 Example/s: 49702.267 (Total examples: 32251904)\n",
      "Epoch[3] Iteration[1200/7324] Loss: 0.00000 Example/s: 49750.318 (Total examples: 32456704)\n",
      "Epoch[3] Iteration[1300/7324] Loss: 0.00000 Example/s: 49788.562 (Total examples: 32661504)\n",
      "Epoch[3] Iteration[1400/7324] Loss: 0.00000 Example/s: 49831.539 (Total examples: 32866304)\n",
      "Epoch[3] Iteration[1500/7324] Loss: 0.00000 Example/s: 49868.231 (Total examples: 33071104)\n",
      "Epoch[3] Iteration[1600/7324] Loss: 0.00000 Example/s: 49889.779 (Total examples: 33275904)\n",
      "Epoch[3] Iteration[1700/7324] Loss: 0.00000 Example/s: 49918.768 (Total examples: 33480704)\n",
      "Epoch[3] Iteration[1800/7324] Loss: 0.00000 Example/s: 49938.906 (Total examples: 33685504)\n",
      "Epoch[3] Iteration[1900/7324] Loss: 0.00000 Example/s: 49959.652 (Total examples: 33890304)\n",
      "Epoch[3] Iteration[2000/7324] Loss: 0.00000 Example/s: 49981.914 (Total examples: 34095104)\n",
      "Epoch[3] Iteration[2100/7324] Loss: 0.00000 Example/s: 49994.074 (Total examples: 34299904)\n",
      "Epoch[3] Iteration[2200/7324] Loss: 0.00000 Example/s: 50011.309 (Total examples: 34504704)\n",
      "Epoch[3] Iteration[2300/7324] Loss: 0.00000 Example/s: 50026.976 (Total examples: 34709504)\n",
      "Epoch[3] Iteration[2400/7324] Loss: 0.00000 Example/s: 50035.430 (Total examples: 34914304)\n",
      "Epoch[3] Iteration[2500/7324] Loss: 0.00000 Example/s: 50052.152 (Total examples: 35119104)\n",
      "Epoch[3] Iteration[2600/7324] Loss: 0.00000 Example/s: 50058.836 (Total examples: 35323904)\n",
      "Epoch[3] Iteration[2700/7324] Loss: 0.00000 Example/s: 50066.622 (Total examples: 35528704)\n",
      "Epoch[3] Iteration[2800/7324] Loss: 0.00000 Example/s: 50076.433 (Total examples: 35733504)\n",
      "Epoch[3] Iteration[2900/7324] Loss: 0.00000 Example/s: 50075.766 (Total examples: 35938304)\n",
      "Epoch[3] Iteration[3000/7324] Loss: 0.00000 Example/s: 50088.072 (Total examples: 36143104)\n",
      "Epoch[3] Iteration[3100/7324] Loss: 0.00000 Example/s: 50092.479 (Total examples: 36347904)\n",
      "Epoch[3] Iteration[3200/7324] Loss: 0.00000 Example/s: 50098.833 (Total examples: 36552704)\n",
      "Epoch[3] Iteration[3300/7324] Loss: 0.00000 Example/s: 50103.383 (Total examples: 36757504)\n",
      "Epoch[3] Iteration[3400/7324] Loss: 0.00000 Example/s: 50110.135 (Total examples: 36962304)\n",
      "Epoch[3] Iteration[3500/7324] Loss: 0.00000 Example/s: 50115.032 (Total examples: 37167104)\n",
      "Epoch[3] Iteration[3600/7324] Loss: 0.00000 Example/s: 50123.262 (Total examples: 37371904)\n",
      "Epoch[3] Iteration[3700/7324] Loss: 0.00000 Example/s: 50128.444 (Total examples: 37576704)\n",
      "Epoch[3] Iteration[3800/7324] Loss: 0.00000 Example/s: 50131.110 (Total examples: 37781504)\n",
      "Epoch[3] Iteration[3900/7324] Loss: 0.00000 Example/s: 50132.932 (Total examples: 37986304)\n",
      "Epoch[3] Iteration[4000/7324] Loss: 0.00000 Example/s: 50141.612 (Total examples: 38191104)\n",
      "Epoch[3] Iteration[4100/7324] Loss: 0.00000 Example/s: 50141.906 (Total examples: 38395904)\n",
      "Epoch[3] Iteration[4200/7324] Loss: 0.00000 Example/s: 50146.737 (Total examples: 38600704)\n",
      "Epoch[3] Iteration[4300/7324] Loss: 0.00000 Example/s: 50147.410 (Total examples: 38805504)\n",
      "Epoch[3] Iteration[4400/7324] Loss: 0.00000 Example/s: 50149.530 (Total examples: 39010304)\n",
      "Epoch[3] Iteration[4500/7324] Loss: 0.00000 Example/s: 50151.538 (Total examples: 39215104)\n",
      "Epoch[3] Iteration[4600/7324] Loss: 0.00000 Example/s: 50153.809 (Total examples: 39419904)\n",
      "Epoch[3] Iteration[4700/7324] Loss: 0.00000 Example/s: 50155.816 (Total examples: 39624704)\n",
      "Epoch[3] Iteration[4800/7324] Loss: 0.00000 Example/s: 50160.457 (Total examples: 39829504)\n",
      "Epoch[3] Iteration[4900/7324] Loss: 0.00000 Example/s: 50162.792 (Total examples: 40034304)\n",
      "Epoch[3] Iteration[5000/7324] Loss: 0.00000 Example/s: 50163.944 (Total examples: 40239104)\n",
      "Epoch[3] Iteration[5100/7324] Loss: 0.00000 Example/s: 50168.853 (Total examples: 40443904)\n",
      "Epoch[3] Iteration[5200/7324] Loss: 0.00000 Example/s: 50172.651 (Total examples: 40648704)\n",
      "Epoch[3] Iteration[5300/7324] Loss: 0.00000 Example/s: 50176.183 (Total examples: 40853504)\n",
      "Epoch[3] Iteration[5400/7324] Loss: 0.00000 Example/s: 50177.734 (Total examples: 41058304)\n",
      "Epoch[3] Iteration[5500/7324] Loss: 0.00000 Example/s: 50180.796 (Total examples: 41263104)\n",
      "Epoch[3] Iteration[5600/7324] Loss: 0.00000 Example/s: 50182.640 (Total examples: 41467904)\n",
      "Epoch[3] Iteration[5700/7324] Loss: 0.00000 Example/s: 50184.204 (Total examples: 41672704)\n",
      "Epoch[3] Iteration[5800/7324] Loss: 0.00000 Example/s: 50186.098 (Total examples: 41877504)\n",
      "Epoch[3] Iteration[5900/7324] Loss: 0.00000 Example/s: 49634.557 (Total examples: 42082304)\n",
      "Epoch[3] Iteration[6000/7324] Loss: 0.00000 Example/s: 48934.493 (Total examples: 42287104)\n",
      "Epoch[3] Iteration[6100/7324] Loss: 0.00000 Example/s: 48275.948 (Total examples: 42491904)\n",
      "Epoch[3] Iteration[6200/7324] Loss: 0.00000 Example/s: 47655.274 (Total examples: 42696704)\n",
      "Epoch[3] Iteration[6300/7324] Loss: 0.00000 Example/s: 47069.275 (Total examples: 42901504)\n",
      "Epoch[3] Iteration[6400/7324] Loss: 0.00000 Example/s: 46515.373 (Total examples: 43106304)\n",
      "Epoch[3] Iteration[6500/7324] Loss: 0.00000 Example/s: 45990.741 (Total examples: 43311104)\n",
      "Epoch[3] Iteration[6600/7324] Loss: 0.00000 Example/s: 45493.118 (Total examples: 43515904)\n",
      "Epoch[3] Iteration[6700/7324] Loss: 0.00000 Example/s: 45020.566 (Total examples: 43720704)\n",
      "Epoch[3] Iteration[6800/7324] Loss: 0.00000 Example/s: 44571.281 (Total examples: 43925504)\n",
      "Epoch[3] Iteration[6900/7324] Loss: 0.00000 Example/s: 44143.494 (Total examples: 44130304)\n",
      "Epoch[3] Iteration[7000/7324] Loss: 0.00000 Example/s: 43735.675 (Total examples: 44335104)\n",
      "Epoch[3] Iteration[7100/7324] Loss: 0.00000 Example/s: 43346.560 (Total examples: 44539904)\n",
      "Epoch[3] Iteration[7200/7324] Loss: 0.00000 Example/s: 42974.679 (Total examples: 44744704)\n",
      "Epoch[3] Iteration[7300/7324] Loss: 0.00000 Example/s: 42619.168 (Total examples: 44949504)\n"
     ]
    }
   ],
   "source": [
    "run_training(model, batch_dataload=True, num_workers=0, use_cuDF=False)"
   ]
  },
  {
   "cell_type": "code",
   "execution_count": null,
   "metadata": {},
   "outputs": [],
   "source": []
  }
 ],
 "metadata": {
  "kernelspec": {
   "display_name": "Python 3",
   "language": "python",
   "name": "python3"
  },
  "language_info": {
   "codemirror_mode": {
    "name": "ipython",
    "version": 3
   },
   "file_extension": ".py",
   "mimetype": "text/x-python",
   "name": "python",
   "nbconvert_exporter": "python",
   "pygments_lexer": "ipython3",
   "version": "3.6.8"
  }
 },
 "nbformat": 4,
 "nbformat_minor": 2
}
